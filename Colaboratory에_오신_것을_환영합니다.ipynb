{
  "nbformat": 4,
  "nbformat_minor": 0,
  "metadata": {
    "colab": {
      "name": "Colaboratory에 오신 것을 환영합니다",
      "version": "0.3.2",
      "provenance": [],
      "collapsed_sections": [],
      "toc_visible": true,
      "include_colab_link": true
    },
    "kernelspec": {
      "display_name": "Python 3",
      "name": "python3"
    }
  },
  "cells": [
    {
      "cell_type": "markdown",
      "metadata": {
        "id": "view-in-github",
        "colab_type": "text"
      },
      "source": [
        "<a href=\"https://colab.research.google.com/github/muorago/TEST/blob/master/Colaboratory%EC%97%90_%EC%98%A4%EC%8B%A0_%EA%B2%83%EC%9D%84_%ED%99%98%EC%98%81%ED%95%A9%EB%8B%88%EB%8B%A4.ipynb\" target=\"_parent\"><img src=\"https://colab.research.google.com/assets/colab-badge.svg\" alt=\"Open In Colab\"/></a>"
      ]
    },
    {
      "cell_type": "code",
      "metadata": {
        "id": "YdRAfP6GZ4rJ",
        "colab_type": "code",
        "colab": {}
      },
      "source": [
        "import pandas as pd\n",
        "import numpy as np\n",
        "import matplotlib.pyplot as plt\n",
        "from sklearn.linear_model import LinearRegression\n",
        "from sklearn.linear_model import LogisticRegression"
      ],
      "execution_count": 0,
      "outputs": []
    },
    {
      "cell_type": "code",
      "metadata": {
        "id": "vdSLcEeLZ51D",
        "colab_type": "code",
        "colab": {}
      },
      "source": [
        "import keras"
      ],
      "execution_count": 0,
      "outputs": []
    },
    {
      "cell_type": "code",
      "metadata": {
        "id": "PUqaZ2JAZ89i",
        "colab_type": "code",
        "colab": {}
      },
      "source": [
        "\n",
        "\n",
        "def preprocess_data(df, dataset='hillstrom', verbose=True):\n",
        "    # For Hillstrom dataset, the ‘‘visit’’ target variable was selected\n",
        "    #   as the target variable of interest and the selected treatment is \n",
        "    #   the e-mail campaign for women’s merchandise [1]\n",
        "    # [1] Kane K, Lo VSY, Zheng J. True-lift modeling: Comparison of methods. \n",
        "    #    J Market Anal. 2014;2:218–238\n",
        "    dataset = dataset.lower()\n",
        "    if dataset in ('hillstrom', 'email'):\n",
        "        columns = df.columns\n",
        "        for col in columns:\n",
        "            if df[col].dtype != object:\n",
        "                continue\n",
        "            df = pd.concat(\n",
        "                    [df, pd.get_dummies(df[col], \n",
        "                                        prefix=col, \n",
        "                                        drop_first=False)],\n",
        "                    axis=1)\n",
        "            df.drop([col], axis=1, inplace=True)\n",
        "\n",
        "        df.columns = [col.replace('-', '').replace(' ', '_').lower()\n",
        "                      for col in df.columns]\n",
        "        df = df[df.segment_mens_email == 0]\n",
        "        df.index = range(len(df))\n",
        "        df.drop(['segment_mens_email', \n",
        "                 'segment_no_email', \n",
        "                 'conversion', \n",
        "                 'spend'], axis=1, inplace=True)\n",
        "\n",
        "        y_name = 'visit'\n",
        "        t_name = 'segment_womens_email'\n",
        "    elif dataset in ['criteo', 'ad']:\n",
        "        df = df.fillna(0)\n",
        "        y_name = 'y'\n",
        "        t_name = 'treatment'\n",
        "    elif dataset == 'lalonde':\n",
        "        y_name = 'RE78'\n",
        "        t_name = 'treatment'\n",
        "    else:\n",
        "        raise NotImplementedError\n",
        "    \n",
        "    df['Y'] = df[y_name]\n",
        "    df.drop([y_name], axis=1, inplace=True)\n",
        "    df['T'] = df[t_name]\n",
        "    df.drop([t_name], axis=1, inplace=True)\n",
        "    \n",
        "    return df"
      ],
      "execution_count": 0,
      "outputs": []
    },
    {
      "cell_type": "code",
      "metadata": {
        "id": "mAEg5mGuaMLj",
        "colab_type": "code",
        "colab": {}
      },
      "source": [
        "\n",
        "\n",
        "\n",
        "def tma(x, y, t, method=LogisticRegression, **kwargs):\n",
        "    \"\"\"Training a model according to the \"Two Model Approach\" \n",
        "    (a.k.a. \"Separate Model Approach\")\n",
        "    The default model is General Linear Model (GLM)\n",
        "    \n",
        "    Source: \"Incremental Value Modeling\" (Hansotia, 2002)\n",
        "\n",
        "    Args:\n",
        "        x: A data frame of predictors.\n",
        "        y: A binary response (numeric) vector.\n",
        "        t: A binary response (numeric) representing the treatment assignment\n",
        "            (coded as 0/1).\n",
        "        method: A sklearn model specifying which classification or regression\n",
        "            model to use. This should be a method that can handle a \n",
        "            multinominal class variable.\n",
        "\n",
        "    Return:\n",
        "        Dictionary: A dictionary of two models. One for the treatment group, \n",
        "            one for the control group.\n",
        "\n",
        "            {\n",
        "                'model_treat': a model for the treatment group,\n",
        "                'model_control': a model for the control group\n",
        "            }\n",
        "\n",
        "    \"\"\"\n",
        "    \n",
        "    treat_rows = (t == 1)\n",
        "    control_rows = (t == 0)\n",
        "    model_treat = method(**kwargs).fit(x[treat_rows], y[treat_rows])\n",
        "    model_control = method(**kwargs).fit(x[control_rows], y[control_rows])\n",
        "    \n",
        "    res = {\n",
        "        'model_treat': model_treat,\n",
        "        'model_control': model_control,\n",
        "    }\n",
        "    return res\n",
        "\n",
        "\n",
        "def predict_tma(obj, newdata, **kwargs):\n",
        "    \"\"\"Predictions according to the \"Two Model Approach\" \n",
        "    (a.k.a. \"Separate Model Approach\")\n",
        "    \n",
        "    For each instance in newdata two predictions are made:\n",
        "    1) What is the probability of a person responding when treated?\n",
        "    2) What is the probability of a person responding when not treated\n",
        "      (i.e. part of control group)?\n",
        "\n",
        "    Source: \"Incremental Value Modeling\" (Hansotia, 2002)\n",
        "\n",
        "    Args:\n",
        "        obj: A dictionary of two models. \n",
        "            One for the treatment group, one for the control group.\n",
        "        newdata: A data frame containing the values at which predictions\n",
        "            are required.\n",
        "    \n",
        "    Return:\n",
        "        DataFrame: A dataframe with predicted returns for when the customers\n",
        "            are treated and for when they are not treated.\n",
        "    \"\"\"\n",
        "   \n",
        "    if isinstance(obj['model_treat'], LinearRegression):\n",
        "        pred_treat = obj['model_treat'].predict(newdata)\n",
        "    else:\n",
        "        pred_treat = obj['model_treat'].predict_proba(newdata)[:, 1]\n",
        "\n",
        "    if isinstance(obj['model_control'], LinearRegression):\n",
        "        pred_control = obj['model_control'].predict(newdata)\n",
        "    else:\n",
        "        pred_control = obj['model_control'].predict_proba(newdata)[:, 1]\n",
        "    \n",
        "    # pred_treat = obj['model_treat'].predict(newdata)\n",
        "    # pred_control = obj['model_control'].predict(newdata)\n",
        "    pred_df = pd.DataFrame({\n",
        "        \"pr_y1_t1\": pred_treat,\n",
        "        \"pr_y1_t0\": pred_control,\n",
        "    })\n",
        "    return pred_df\n"
      ],
      "execution_count": 0,
      "outputs": []
    },
    {
      "cell_type": "code",
      "metadata": {
        "id": "5mh-4s3zelyC",
        "colab_type": "code",
        "colab": {}
      },
      "source": [
        "\n",
        "\n",
        "def performance(pr_y1_t1, pr_y1_t0, y, t, groups=10):\n",
        "    \"\"\"\n",
        "    1. Split the total customers into the given number of groups\n",
        "    2. Calculate the statistics of each segment\n",
        "    \n",
        "    Args:\n",
        "        pr_y1_t1: the series (list) of the customer's expected return\n",
        "        pr_y1_t0: the expected return when a customer is not treated\n",
        "        y: the observed return of customers\n",
        "        t: whther each customer is treated or not\n",
        "        groups: the number of groups (segments). Should be 5, 10, or 20\n",
        "    Return:\n",
        "        DataFrame:\n",
        "            columns:\n",
        "                'n_y1_t1': the number of treated responders\n",
        "                'n_y1_t0': the number of not treated responders\n",
        "                'r_y1_t1': the average return of treated customers\n",
        "                'r_y1_t0': the average return of not treated customers\n",
        "                'n_t1': the number of treated customers\n",
        "                'n_t0': the number of not treated customers\n",
        "                'uplift': the average uplift (the average treatment effect)\n",
        "            rows: the index of groups\n",
        "    \"\"\"\n",
        "  \n",
        "    ### check valid arguments\n",
        "    if groups not in [5, 10, 20]:\n",
        "        raise Exception(\"uplift: groups must be either 5, 10 or 20\")\n",
        "  \n",
        "    ### check for NAs.\n",
        "    if pr_y1_t1.isnull().values.any():\n",
        "        raise Exception(\"uplift: NA not permitted in pr_y1_t1\")\n",
        "    if pr_y1_t0.isnull().values.any():\n",
        "        raise Exception(\"uplift: NA not permitted in pr_y1_t0\")\n",
        "    if y.isnull().values.any():\n",
        "        raise Exception(\"uplift: NA not permitted in y\")\n",
        "    if t.isnull().values.any():\n",
        "        raise Exception(\"uplift: NA not permitted in t\")\n",
        "   \n",
        "    ### check valid values for y and t\n",
        "    # if set(y) != {0, 1}:\n",
        "    #     raise Exception(\"uplift: y must be either 0 or 1\")\n",
        "    if set(t) != {0, 1}:\n",
        "        raise Exception(\"uplift: t must be either 0 or 1\")\n",
        "\n",
        "    ### check length of arguments\n",
        "    if not (len(pr_y1_t1) == len(pr_y1_t0) == len(y) == len(t)):\n",
        "        raise Exception(\"uplift: arguments pr_y1_t1, pr_y1_t0, y and t must all have the same length\")\n",
        "\n",
        "    ### define dif_pred\n",
        "    dif_pred = pr_y1_t1 - pr_y1_t0\n",
        "  \n",
        "    ### Make index same\n",
        "    y.index = dif_pred.index\n",
        "    t.index = dif_pred.index\n",
        "    \n",
        "    mm = pd.DataFrame({\n",
        "        'dif_pred': dif_pred,\n",
        "        'y': y,\n",
        "        't': t,\n",
        "        'dif_pred_r': dif_pred.rank(ascending=False, method='first')\n",
        "    })\n",
        "\n",
        "    mm_groupby = mm.groupby(pd.qcut(mm['dif_pred_r'], groups, labels=range(1, groups+1), duplicates='drop'))\n",
        "  \n",
        "    n_y1_t1 = mm_groupby.apply(lambda r: r[r['t'] == 1]['y'].sum())\n",
        "    n_y1_t0 = mm_groupby.apply(lambda r: r[r['t'] == 0]['y'].sum())\n",
        "    n_t1 = mm_groupby['t'].sum()\n",
        "    n_t0 = mm_groupby['t'].count() - n_t1\n",
        "  \n",
        "    df = pd.DataFrame({\n",
        "        'n_t1': n_t1,\n",
        "        'n_t0': n_t0,\n",
        "        'n_y1_t1': n_y1_t1,\n",
        "        'n_y1_t0': n_y1_t0,\n",
        "        'r_y1_t1': n_y1_t1 / n_t1,\n",
        "        'r_y1_t0': n_y1_t0 / n_t0,\n",
        "    })\n",
        "    fillna_columns = ['n_y1_t1', 'n_y1_t0', 'n_t1', 'n_t0']\n",
        "    df[fillna_columns] = df[fillna_columns].fillna(0)\n",
        "    df.index.name = 'groups'\n",
        "\n",
        "    df['uplift'] = df['r_y1_t1'] - df['r_y1_t0']\n",
        "    df['uplift'] = round(df['uplift'], 6)\n",
        "\n",
        "    return df\n",
        "\n",
        "\n",
        "def qini(perf, plotit=True):\n",
        "    nrow = len(perf)\n",
        "\n",
        "    # Calculating the incremental gains. \n",
        "    # - First, the cumulitative sum of the treated and the control groups are\n",
        "    #  calculated with respect to the total population in each group at the\n",
        "    #  specified decile\n",
        "    # - Afterwards we calculate the percentage of the total amount of people\n",
        "    #  (both treatment and control) are present in each decile\n",
        "    cumul_y1_t1 = (perf['n_y1_t1'].cumsum() / perf['n_t1'].cumsum()).fillna(0)\n",
        "    cumul_y1_t0 = (perf['n_y1_t0'].cumsum() / perf['n_t0'].cumsum()).fillna(0)\n",
        "    deciles = [i/nrow for i in range(1, nrow+1)]\n",
        "\n",
        "    ### Model Incremental gains\n",
        "    inc_gains = (cumul_y1_t1 - cumul_y1_t0) * deciles\n",
        "    inc_gains = [0.0] + list(inc_gains)\n",
        "\n",
        "    ### Overall incremental gains\n",
        "    overall_inc_gain = sum(perf['n_y1_t1']) / sum(perf['n_t1']) \\\n",
        "            - sum(perf['n_y1_t0']) / sum(perf['n_t0'])\n",
        "\n",
        "    ### Random incremental gains\n",
        "    random_inc_gains = [i*overall_inc_gain / nrow for i in range(nrow+1)]\n",
        "\n",
        "    ### Compute area under the model incremental gains (uplift) curve\n",
        "    x = [0] + deciles\n",
        "    y = list(inc_gains)\n",
        "    auuc = 0\n",
        "    auuc_rand = 0\n",
        "\n",
        "    auuc_list = [auuc]\n",
        "    for i in range(1, len(x)):\n",
        "        auuc += 0.5 * (x[i] - x[i-1]) * (y[i] + y[i-1])\n",
        "        auuc_list.append(auuc)\n",
        "\n",
        "    ### Compute area under the random incremental gains curve\n",
        "    y_rand = random_inc_gains\n",
        "\n",
        "    auuc_rand_list = [auuc_rand]\n",
        "    for i in range(1, len(x)):\n",
        "        auuc_rand += 0.5 * (x[i] - x[i-1]) * (y_rand[i] + y_rand[i-1])\n",
        "        auuc_rand_list.append(auuc_rand)\n",
        "\n",
        "    ### Compute the difference between the areas (Qini coefficient)\n",
        "    Qini = auuc - auuc_rand\n",
        "\n",
        "    ### Plot incremental gains curve\n",
        "    if plotit:\n",
        "        x_axis = x\n",
        "        plt.plot(x_axis, inc_gains)\n",
        "        plt.plot(x_axis, random_inc_gains)\n",
        "        plt.show()\n",
        "    \n",
        "    ### Qini 30%, Qini 10%\n",
        "    n_30p = int(nrow*3/10)\n",
        "    n_10p = int(nrow/10)\n",
        "    qini_30p = auuc_list[n_30p] - auuc_rand_list[n_30p]\n",
        "    qini_10p = auuc_list[n_10p] - auuc_rand_list[n_10p]\n",
        "\n",
        "    res = {\n",
        "        'qini': Qini,\n",
        "        'inc_gains': inc_gains,\n",
        "        'random_inc_gains': random_inc_gains,\n",
        "        'auuc_list': auuc_list,\n",
        "        'auuc_rand_list': auuc_rand_list,\n",
        "        'qini_30p': qini_30p,\n",
        "        'qini_10p': qini_10p,\n",
        "    }    \n",
        "\n",
        "    return res\n"
      ],
      "execution_count": 0,
      "outputs": []
    },
    {
      "cell_type": "code",
      "metadata": {
        "id": "Q4SU0sg9ex29",
        "colab_type": "code",
        "colab": {}
      },
      "source": [
        "hillstrom_df = pd.read_csv('Hillstrom.csv')"
      ],
      "execution_count": 0,
      "outputs": []
    },
    {
      "cell_type": "code",
      "metadata": {
        "id": "ThfFaqp3e40l",
        "colab_type": "code",
        "colab": {}
      },
      "source": [
        "input_df= preprocess_data(hillstrom_df)"
      ],
      "execution_count": 0,
      "outputs": []
    },
    {
      "cell_type": "code",
      "metadata": {
        "id": "ua7w3goMe7do",
        "colab_type": "code",
        "colab": {}
      },
      "source": [
        "Y = input_df['Y']\n",
        "T = input_df['T']\n",
        "X = input_df.drop(['Y', 'T'], axis=1)"
      ],
      "execution_count": 0,
      "outputs": []
    },
    {
      "cell_type": "code",
      "metadata": {
        "id": "9ufry0cje8jN",
        "colab_type": "code",
        "colab": {}
      },
      "source": [
        "\n",
        "from sklearn.model_selection import KFold, StratifiedKFold\n",
        "\n",
        "fold_gen = StratifiedKFold(n_splits=5, shuffle=True, random_state=1234).split(X,Y)\n",
        "q_list = []\n",
        "wrapped_qini_list = []\n",
        "perf_list = []\n",
        "pred_list = []\n",
        "for idx, (train_index, test_index) in enumerate(fold_gen):\n",
        "    X_train = X.reindex(train_index)\n",
        "    X_test = X.reindex(test_index)\n",
        "    Y_train = Y.reindex(train_index)\n",
        "    Y_test = Y.reindex(test_index)\n",
        "    T_train = T.reindex(train_index)\n",
        "    T_test = T.reindex(test_index)\n",
        "    break\n",
        "    "
      ],
      "execution_count": 0,
      "outputs": []
    },
    {
      "cell_type": "code",
      "metadata": {
        "id": "ijjLb9NLe9pN",
        "colab_type": "code",
        "colab": {
          "base_uri": "https://localhost:8080/",
          "height": 374
        },
        "outputId": "c4809c20-9aeb-4919-db3e-7ec07a68680d"
      },
      "source": [
        "model_tma = tma(X_train, Y_train, T_train, LogisticRegression)\n",
        "predict_result = predict_tma(model_tma, X_test)\n",
        "tma_perf = performance(predict_result['pr_y1_t1'], predict_result['pr_y1_t0'], Y_test, T_test)\n",
        "tma_qini = qini(tma_perf)\n",
        "print(tma_qini['qini'])"
      ],
      "execution_count": 20,
      "outputs": [
        {
          "output_type": "stream",
          "text": [
            "/usr/local/lib/python3.6/dist-packages/sklearn/linear_model/logistic.py:432: FutureWarning: Default solver will be changed to 'lbfgs' in 0.22. Specify a solver to silence this warning.\n",
            "  FutureWarning)\n",
            "/usr/local/lib/python3.6/dist-packages/sklearn/linear_model/logistic.py:432: FutureWarning: Default solver will be changed to 'lbfgs' in 0.22. Specify a solver to silence this warning.\n",
            "  FutureWarning)\n"
          ],
          "name": "stderr"
        },
        {
          "output_type": "display_data",
          "data": {
            "image/png": "[encoded data removed]",
            "text/plain": [
              "<Figure size 432x288 with 1 Axes>"
            ]
          },
          "metadata": {
            "tags": []
          }
        },
        {
          "output_type": "stream",
          "text": [
            "0.010886993893016478\n"
          ],
          "name": "stdout"
        }
      ]
    },
    {
      "cell_type": "code",
      "metadata": {
        "id": "_cesyEccfIcE",
        "colab_type": "code",
        "colab": {
          "base_uri": "https://localhost:8080/",
          "height": 224
        },
        "outputId": "25cc3651-4898-471c-92b4-1bed10e6f06b"
      },
      "source": [
        "from keras.models import Sequential\n",
        "from keras.layers.core import Dense, Activation\n",
        "\n"
      ],
      "execution_count": 22,
      "outputs": [
        {
          "output_type": "stream",
          "text": [
            "WARNING: Logging before flag parsing goes to stderr.\n",
            "W0902 05:40:16.031205 140194165630848 deprecation_wrapper.py:119] From /usr/local/lib/python3.6/dist-packages/keras/backend/tensorflow_backend.py:66: The name tf.get_default_graph is deprecated. Please use tf.compat.v1.get_default_graph instead.\n",
            "\n",
            "W0902 05:40:16.082003 140194165630848 deprecation_wrapper.py:119] From /usr/local/lib/python3.6/dist-packages/keras/backend/tensorflow_backend.py:541: The name tf.placeholder is deprecated. Please use tf.compat.v1.placeholder instead.\n",
            "\n",
            "W0902 05:40:16.089600 140194165630848 deprecation_wrapper.py:119] From /usr/local/lib/python3.6/dist-packages/keras/backend/tensorflow_backend.py:4432: The name tf.random_uniform is deprecated. Please use tf.random.uniform instead.\n",
            "\n",
            "W0902 05:40:16.122795 140194165630848 deprecation_wrapper.py:119] From /usr/local/lib/python3.6/dist-packages/keras/optimizers.py:793: The name tf.train.Optimizer is deprecated. Please use tf.compat.v1.train.Optimizer instead.\n",
            "\n",
            "W0902 05:40:16.147783 140194165630848 deprecation_wrapper.py:119] From /usr/local/lib/python3.6/dist-packages/keras/backend/tensorflow_backend.py:3576: The name tf.log is deprecated. Please use tf.math.log instead.\n",
            "\n"
          ],
          "name": "stderr"
        }
      ]
    },
    {
      "cell_type": "code",
      "metadata": {
        "id": "Fpl_WhJahg7E",
        "colab_type": "code",
        "colab": {}
      },
      "source": [
        "\n",
        "def tma_dl(x, y, t, method=LogisticRegression, **kwargs):\n",
        "    \"\"\"Training a model according to the \"Two Model Approach\" \n",
        "    (a.k.a. \"Separate Model Approach\")\n",
        "    The default model is General Linear Model (GLM)\n",
        "    \n",
        "    Source: \"Incremental Value Modeling\" (Hansotia, 2002)\n",
        "\n",
        "    Args:\n",
        "        x: A data frame of predictors.\n",
        "        y: A binary response (numeric) vector.\n",
        "        t: A binary response (numeric) representing the treatment assignment\n",
        "            (coded as 0/1).\n",
        "        method: A sklearn model specifying which classification or regression\n",
        "            model to use. This should be a method that can handle a \n",
        "            multinominal class variable.\n",
        "\n",
        "    Return:\n",
        "        Dictionary: A dictionary of two models. One for the treatment group, \n",
        "            one for the control group.\n",
        "\n",
        "            {\n",
        "                'model_treat': a model for the treatment group,\n",
        "                'model_control': a model for the control group\n",
        "            }\n",
        "\n",
        "    \"\"\"\n",
        "    \n",
        "    treat_rows = (t == 1)\n",
        "    control_rows = (t == 0)\n",
        "\n",
        "    model_treat = Sequential()\n",
        "    model_treat.add(Dense(12, input_shape=(18,)))\n",
        "    model_treat.add(Activation('sigmoid'))\n",
        "    model_treat.add(Dense(9))\n",
        "    model_treat.add(Activation('sigmoid'))\n",
        "    model_treat.add(Dense(9))\n",
        "    model_treat.add(Activation('sigmoid'))\n",
        "    model_treat.add(Dense(9))\n",
        "    model_treat.add(Activation('sigmoid'))\n",
        "    model_treat.add(Dense(9))\n",
        "    model_treat.add(Activation('sigmoid'))\n",
        "    model_treat.add(Dense(6))\n",
        "    model_treat.add(Activation('sigmoid'))\n",
        "    model_treat.add(Dense(2))\n",
        "    model_treat.add(Activation('softmax'))\n",
        "    model_treat.compile(loss='categorical_crossentropy', metrics=['accuracy'], optimizer='adam')\n",
        "    model_treat.fit(x[treat_rows], keras.utils.to_categorical(y[treat_rows]), verbose=0, batch_size=1)\n",
        "\n",
        "    model_control = Sequential()\n",
        "    model_control.add(Dense(12, input_shape=(18,)))\n",
        "    model_control.add(Activation('sigmoid'))\n",
        "    model_treat.add(Dense(9))\n",
        "    model_treat.add(Activation('sigmoid'))\n",
        "    model_treat.add(Dense(9))\n",
        "    model_treat.add(Activation('sigmoid'))\n",
        "    model_treat.add(Dense(9))\n",
        "    model_treat.add(Activation('sigmoid'))\n",
        "    model_treat.add(Dense(9))\n",
        "    model_treat.add(Activation('sigmoid'))\n",
        "    model_treat.add(Dense(6))\n",
        "    model_treat.add(Activation('sigmoid'))\n",
        "    model_control.add(Dense(2))\n",
        "    model_control.add(Activation('softmax'))\n",
        "    model_control.compile(loss='categorical_crossentropy', metrics=['accuracy'], optimizer='adam')\n",
        "    model_control.fit(x[control_rows], keras.utils.to_categorical(y[control_rows]), verbose=0, batch_size=1)\n",
        "\n",
        "\n",
        "    res = {\n",
        "        'model_treat': model_treat,\n",
        "        'model_control': model_control,\n",
        "    }\n",
        "    return res\n"
      ],
      "execution_count": 0,
      "outputs": []
    },
    {
      "cell_type": "code",
      "metadata": {
        "id": "k-iwIwqjirUM",
        "colab_type": "code",
        "colab": {
          "base_uri": "https://localhost:8080/",
          "height": 286
        },
        "outputId": "410fe2cc-ce3f-4c41-bba8-1c7cfa43db1c"
      },
      "source": [
        "model_tma_dl = tma_dl(X_train, Y_train, T_train, LogisticRegression)\n",
        "predict_result_dl = predict_tma(model_tma_dl, X_test)\n",
        "tma_perf_dl = performance(predict_result_dl['pr_y1_t1'], predict_result_dl['pr_y1_t0'], Y_test, T_test)\n",
        "tma_qini_dl = qini(tma_perf_dl)\n",
        "print(tma_qini_dl['qini'])"
      ],
      "execution_count": 43,
      "outputs": [
        {
          "output_type": "display_data",
          "data": {
            "image/png": "[encoded data removed]",
            "text/plain": [
              "<Figure size 432x288 with 1 Axes>"
            ]
          },
          "metadata": {
            "tags": []
          }
        },
        {
          "output_type": "stream",
          "text": [
            "0.000989023215602576\n"
          ],
          "name": "stdout"
        }
      ]
    },
    {
      "cell_type": "code",
      "metadata": {
        "id": "iaEx1UMEjDz6",
        "colab_type": "code",
        "colab": {}
      },
      "source": [
        ""
      ],
      "execution_count": 0,
      "outputs": []
    }
  ]
}